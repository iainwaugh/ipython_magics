{
 "cells": [
  {
   "cell_type": "code",
   "execution_count": null,
   "metadata": {
    "collapsed": false
   },
   "outputs": [],
   "source": [
    "%install_ext https://raw.githubusercontent.com/meduz/ipython_magics/master/tikzmagic.py"
   ]
  },
  {
   "cell_type": "code",
   "execution_count": null,
   "metadata": {
    "collapsed": false
   },
   "outputs": [],
   "source": [
    "%load_ext tikzmagic"
   ]
  },
  {
   "cell_type": "code",
   "execution_count": null,
   "metadata": {
    "collapsed": false
   },
   "outputs": [],
   "source": [
    "%tikz \\draw (0,0) rectangle (1,1);"
   ]
  },
  {
   "cell_type": "code",
   "execution_count": null,
   "metadata": {
    "collapsed": false
   },
   "outputs": [],
   "source": [
    "%%tikz --scale 2 --size 300,300 -f jpg\n",
    "\\draw (0,0) rectangle (1,1);\n",
    "\\filldraw (0.5,0.5) circle (.1);"
   ]
  },
  {
   "cell_type": "code",
   "execution_count": null,
   "metadata": {
    "collapsed": false
   },
   "outputs": [],
   "source": [
    "%%tikz --scale 2 --size 300,300 -f svg\n",
    "\\draw (0,0) rectangle (1,1);\n",
    "\\filldraw (0.5,0.5) circle (.1);"
   ]
  },
  {
   "cell_type": "code",
   "execution_count": null,
   "metadata": {
    "collapsed": false
   },
   "outputs": [],
   "source": [
    "%%tikz -s 400,400 -sc 1.2 -f png\n",
    "\\draw [style=help lines, step=2]\t\t\t\t(-1,-1)\tgrid\t\t(+7,+7);\n",
    "\\draw [line width=0.5mm, fill=blue!40!white]\t(+2,+2)\trectangle\t(+4,+4);\n",
    " \n",
    "\\draw [blue!60!white] (  2,  2) node[anchor=north east] {$(i  ,j  )$};\n",
    "\\draw [blue!60!white] (  4,  2) node[anchor=north west] {$(i+1,j  )$};\n",
    "\\draw [blue!60!white] (  4,  4) node[anchor=south west] {$(i+1,j+1)$};\n",
    "\\draw [blue!60!white] (  2,  4) node[anchor=south east] {$(i  ,j+1)$};\n",
    "\n",
    "\\filldraw [color=gray]\t(0,0) circle (.1);\n",
    "\\filldraw [color=gray]\t(0,2) circle (.1);\n",
    "\\filldraw [color=gray]\t(0,4) circle (.1);\n",
    "\\filldraw [color=gray]\t(0,6) circle (.1);\n",
    "\\filldraw [color=gray]\t(2,0) circle (.1);\n",
    "\\filldraw [color=black]\t(2,2) circle (.1);\n",
    "\\filldraw [color=black]\t(2,4) circle (.1);\n",
    "\\filldraw [color=gray]\t(2,6) circle (.1);\n",
    "\\filldraw [color=gray]\t(4,0) circle (.1);\n",
    "\\filldraw [color=black]\t(4,2) circle (.1);\n",
    "\\filldraw [color=black]\t(4,4) circle (.1);\n",
    "\\filldraw [color=gray]\t(4,6) circle (.1);\n",
    "\\filldraw [color=gray]\t(6,0) circle (.1);\n",
    "\\filldraw [color=gray]\t(6,2) circle (.1);\n",
    "\\filldraw [color=gray]\t(6,4) circle (.1);\n",
    "\\filldraw [color=gray]\t(6,6) circle (.1);\n"
   ]
  },
  {
   "cell_type": "code",
   "execution_count": null,
   "metadata": {
    "collapsed": false,
    "scrolled": true
   },
   "outputs": [],
   "source": [
    "%%tikz -l arrows,matrix -f svg\n",
    "\\matrix (m) [matrix of math nodes, row sep=3em, column sep=4em] {\n",
    "A & B \\\\\n",
    "C & D \\\\\n",
    "};\n",
    "\\path[-stealth, line width=.4mm]\n",
    "(m-1-1) edge node [left ] {$ac$} (m-2-1)\n",
    "(m-1-1) edge node [above] {$ab$} (m-1-2)\n",
    "(m-1-2) edge node [right] {$bd$} (m-2-2)\n",
    "(m-2-1) edge node [below] {$cd$} (m-2-2);\n"
   ]
  },
  {
   "cell_type": "code",
   "execution_count": null,
   "metadata": {
    "collapsed": true
   },
   "outputs": [],
   "source": []
  }
 ],
 "metadata": {
  "kernelspec": {
   "display_name": "Python 2",
   "language": "python",
   "name": "python2"
  },
  "language_info": {
   "codemirror_mode": {
    "name": "ipython",
    "version": 2
   },
   "file_extension": ".py",
   "mimetype": "text/x-python",
   "name": "python",
   "nbconvert_exporter": "python",
   "pygments_lexer": "ipython2",
   "version": "2.7.10"
  }
 },
 "nbformat": 4,
 "nbformat_minor": 0
}
